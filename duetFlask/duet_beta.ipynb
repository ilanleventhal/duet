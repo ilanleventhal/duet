{
 "cells": [
  {
   "cell_type": "code",
   "execution_count": 2,
   "metadata": {},
   "outputs": [],
   "source": [
    "from spotify_client import *\n",
    "import numpy as np\n",
    "import pandas as pd\n",
    "pd.set_option('display.max_rows', 100)\n"
   ]
  },
  {
   "cell_type": "code",
   "execution_count": 4,
   "metadata": {},
   "outputs": [],
   "source": [
    "client_id = '657378f09f154f149c34d740f03930a6'\n",
    "client_secret = 'fe91b9f0f7714cdabc485a8e4d9997d6'"
   ]
  },
  {
   "cell_type": "code",
   "execution_count": 6,
   "metadata": {},
   "outputs": [],
   "source": [
    "spotify = SpotifyAPI(client_id, client_secret)"
   ]
  },
  {
   "cell_type": "code",
   "execution_count": 8,
   "metadata": {
    "scrolled": false,
    "tags": []
   },
   "outputs": [
    {
     "output_type": "stream",
     "name": "stdout",
     "text": [
      "Sniping mutuals from 1154 tracks, 26 different playlists\n30 mutual songs sniped\n"
     ]
    }
   ],
   "source": [
    "#get songs from user's playlists\n",
    "updf = pd.DataFrame((spotify.get_user_playlists(\"ilanleventhal\")['items']))\n",
    "utdf = pd.DataFrame()\n",
    "for i in range(0,len(updf)):\n",
    "    utdf = pd.concat([utdf, pd.DataFrame.from_dict(spotify.get_playlist_tracks(updf.iloc[i,4]))], ignore_index=True)\n",
    "\n",
    "#get songs from friend's playlists\n",
    "fpdf = pd.DataFrame((spotify.get_user_playlists(\"annalarsen_23\")['items']))\n",
    "ftdf = pd.DataFrame()\n",
    "for i in range(0,len(fpdf)):\n",
    "    ftdf = pd.concat([ftdf, pd.DataFrame.from_dict(spotify.get_playlist_tracks(fpdf.iloc[i,4]))], ignore_index=True)\n",
    "\n",
    "#add track id column to each dataFrame\n",
    "utdf['ids'] = ''\n",
    "utdf['name'] = ''\n",
    "ftdf['ids'] = ''\n",
    "ftdf['name'] = ''\n",
    "for i in range(0,len(utdf)):\n",
    "    utdf.iat[i,7] = utdf.iat[i,1]['track']['id']\n",
    "    utdf.iat[i,8] = utdf.iat[i,1]['track']['name']\n",
    "for i in range(0,len(ftdf)):\n",
    "    ftdf.iat[i,7] = ftdf.iat[i,1]['track']['id']\n",
    "    ftdf.iat[i,8] = ftdf.iat[i,1]['track']['name']\n",
    "\n",
    "#remove duplicates from each dataFrame\n",
    "utdf = utdf.drop_duplicates(subset=['ids'])\n",
    "ftdf = ftdf.drop_duplicates(subset=['ids'])\n",
    "\n",
    "#join the two dataFrames\n",
    "ctdf = pd.concat([utdf, ftdf], ignore_index=True)\n",
    "\n",
    "print(\"Sniping mutuals from\", len(ctdf), \"tracks,\", len(updf)+len(fpdf), \"different playlists\")\n",
    "\n",
    "#find mutual songs\n",
    "mtdf = ctdf[ctdf.duplicated(['ids'])]\n",
    "mtdf.reset_index(drop=True)\n",
    "print(len(mtdf), \"mutual songs sniped\")\n"
   ]
  },
  {
   "cell_type": "code",
   "execution_count": 10,
   "metadata": {
    "scrolled": true
   },
   "outputs": [
    {
     "output_type": "stream",
     "name": "stdout",
     "text": [
      "DHL\nViolent Crimes\nSober\nCookie Chips\nThem Changes\nBorderline\nBreathe Deeper\nBest Part (feat. H.E.R.)\nNikes\nCome Through and Chill (feat. J. Cole & Salaam Remi)\nPoison\nSelf Control\nCome Back to Earth\nLOVE AGAIN\nStreetcar\nEasy\nNights\nGoodie Bag\nNorth Face\nSuper Rich Kids\nPhotosynthesis\nMona Lisa\nMIDDLE CHILD\nCatch Me Outside\nPotato Salad\nHave Mercy\nShotta Flow (Feat. Blueface) [Remix]\nBlessings (feat. Ty Dolla $ign, Anderson .Paak, BJ The Chicago Kid, Raury & Jamila Woods)\nAll Night (feat. Knox Fortune)\nFather Stretch My Hands Pt. 1\n"
     ]
    }
   ],
   "source": [
    "#TEST\n",
    "for i in range(0,len(mtdf)):\n",
    "    print(mtdf.iat[i,8])"
   ]
  },
  {
   "cell_type": "code",
   "execution_count": null,
   "metadata": {},
   "outputs": [],
   "source": []
  },
  {
   "cell_type": "code",
   "execution_count": null,
   "metadata": {},
   "outputs": [],
   "source": []
  }
 ],
 "metadata": {
  "kernelspec": {
   "display_name": "Python 3",
   "language": "python",
   "name": "python3"
  },
  "language_info": {
   "codemirror_mode": {
    "name": "ipython",
    "version": 3
   },
   "file_extension": ".py",
   "mimetype": "text/x-python",
   "name": "python",
   "nbconvert_exporter": "python",
   "pygments_lexer": "ipython3",
   "version": "3.7.6-final"
  }
 },
 "nbformat": 4,
 "nbformat_minor": 4
}